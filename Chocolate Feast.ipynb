{
 "cells": [
  {
   "cell_type": "markdown",
   "metadata": {},
   "source": [
    "# An analytic solution to the Chocolate Feast problem in python"
   ]
  },
  {
   "cell_type": "markdown",
   "metadata": {},
   "source": [
    "https://www.hackerrank.com/challenges/chocolate-feast/problem?isFullScreen=true"
   ]
  },
  {
   "cell_type": "markdown",
   "metadata": {},
   "source": [
    "The Chocolate Feast problem asks us to take a starting cash n, cash cost c, and wrapper cost m.\n",
    "\n",
    "In effect, you start buying n//c chocolates, the remaining cash is unusable.\n",
    "\n",
    "Then for each m wrappers, one chocolate can be bought. This is effectively a geometric series sum."
   ]
  },
  {
   "cell_type": "markdown",
   "metadata": {},
   "source": [
    "## In short: \n",
    "\n",
    "The analytic solution is a modified geometric sequence.\n",
    "\n",
    "Find the ceiling of the full geometric sequence, then subtract 1 to handle the final case where there's not enough wrappers to buy a whole candy. \n",
    "\n",
    "Each step of i chocolates can be treated as i - i % m independent partial geometric sequences with the same pooled remainder."
   ]
  },
  {
   "cell_type": "code",
   "execution_count": 16,
   "metadata": {},
   "outputs": [],
   "source": [
    "from math import ceil\n",
    "def chocolateFeast(n, c, m):\n",
    "    return ceil((n//c)/(1-(1/m)))-1"
   ]
  },
  {
   "cell_type": "code",
   "execution_count": 17,
   "metadata": {},
   "outputs": [
    {
     "name": "stdout",
     "output_type": "stream",
     "text": [
      "5 initial chocolates with m = 2 resolves to 9 chocolates.\n",
      "5 initial chocolates with m = 3 resolves to 7 chocolates.\n",
      "5 initial chocolates with m = 4 resolves to 6 chocolates.\n",
      "10 initial chocolates with m = 2 resolves to 19 chocolates.\n",
      "10 initial chocolates with m = 3 resolves to 14 chocolates.\n",
      "10 initial chocolates with m = 4 resolves to 13 chocolates.\n",
      "15 initial chocolates with m = 2 resolves to 29 chocolates.\n",
      "15 initial chocolates with m = 3 resolves to 22 chocolates.\n",
      "15 initial chocolates with m = 4 resolves to 19 chocolates.\n",
      "20 initial chocolates with m = 2 resolves to 39 chocolates.\n",
      "20 initial chocolates with m = 3 resolves to 29 chocolates.\n",
      "20 initial chocolates with m = 4 resolves to 26 chocolates.\n"
     ]
    }
   ],
   "source": [
    "for n in range (5,25,5):\n",
    "    for m in range(2,5):\n",
    "        print(f'{n} initial chocolates with m = {m} resolves to {chocolateFeast(n,1,m)} chocolates.')"
   ]
  },
  {
   "cell_type": "markdown",
   "metadata": {},
   "source": [
    "## Explanation\n",
    "\n",
    "### Example 1:\n",
    "We start with 27 chocolates and wrapper cost m = 3.\n",
    "The total chocolates we can get is 27 + 9 + 3 + 1 = 40\n",
    "This is similar to a geometric series with start 27 which in theory resolves to 27 * 1 / (1-1/m) = 27 * 3/2 = 40.5\n",
    "However, we can't go below m wrappers to buy a return of a single chocolate so it is truncated.\n",
    "Thus we resolve this to floor(40.5) = 40\n",
    "\n",
    "### Inconvenient totals:\n",
    "\n",
    "On the surface it might seem complex to handle the edge cases where the number of wrappers isn't a perfect multiplier,\n",
    "For example, with 3 chocolates and m = 2, you buy 3 + 1 + 1 chocolates to resovle 5 while the geometric series resolves to 6,\n",
    "But it can be demonstrated that this can be strictly bounded.\n",
    "\n",
    "### Example 2: \n",
    "n = 26, c = 1, wrapper cost m = 3\n",
    "\n",
    "##### Subproblem 1:\n",
    "n % m  = 24 each of these 24 combines to buy 8 chocolates.\n",
    "Currently no issue as each chocolate is operating as its own independent geometric sum.\n",
    "\n",
    "##### Subproblem 2: \n",
    "The remainder r = 2. While the total number of wrappers is not below m, r can still realize its value as an iteration of a geometric sumn.\n",
    "No issue until a remainder is not realized.\n",
    "\n",
    "##### Conclusion:\n",
    "\n",
    "Combining these two problems, it becomes relatively easy to see that the only time a wrapper does not yet have realized value is where the remainder r > m\n",
    "\n",
    "As a result, the inconvenience of imperfect matches is bounded to a single final combined step for all independent perfect subproblems.\n",
    "\n",
    "Correcting for the inability to round down whole number geometric sums, we ceil the geometric sum of the original and subtract 1."
   ]
  }
 ],
 "metadata": {
  "kernelspec": {
   "display_name": "starwars",
   "language": "python",
   "name": "python3"
  },
  "language_info": {
   "codemirror_mode": {
    "name": "ipython",
    "version": 3
   },
   "file_extension": ".py",
   "mimetype": "text/x-python",
   "name": "python",
   "nbconvert_exporter": "python",
   "pygments_lexer": "ipython3",
   "version": "3.11.3"
  }
 },
 "nbformat": 4,
 "nbformat_minor": 2
}
