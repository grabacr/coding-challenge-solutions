{
 "cells": [
  {
   "cell_type": "markdown",
   "metadata": {},
   "source": [
    "### Below is an optimal python solution to the HackerRank problem, Non Divisible Subset\n"
   ]
  },
  {
   "cell_type": "markdown",
   "metadata": {},
   "source": [
    "https://www.hackerrank.com/challenges/non-divisible-subset/problem?isFullScreen=true"
   ]
  },
  {
   "cell_type": "code",
   "execution_count": 2,
   "metadata": {},
   "outputs": [],
   "source": [
    "def nonDivisibleSubset(k, s):\n",
    "    remainder_counts = {}\n",
    "    for i in s:\n",
    "        remainder = i % k\n",
    "        remainder_counts[remainder] = remainder_counts.get(remainder,0) + 1\n",
    "    \n",
    "    # Fastest to let dictionary parse, then remove later\n",
    "    subset_size = 0\n",
    "    if 0 in remainder_counts:\n",
    "        subset_size += 1\n",
    "        del remainder_counts[0]\n",
    "    if k%2 == 0 and k//2 in remainder_counts:\n",
    "        subset_size += 1\n",
    "        del remainder_counts[k//2]\n",
    "    \n",
    "    to_remove = set()\n",
    "    for remainder in remainder_counts.keys():\n",
    "        if remainder in to_remove:\n",
    "            continue\n",
    "        complement = k - remainder\n",
    "        if complement not in remainder_counts or complement in to_remove:\n",
    "            continue\n",
    "        if remainder_counts[remainder] > remainder_counts[complement]:    \n",
    "            to_remove.add(complement)\n",
    "        else:                   \n",
    "            to_remove.add(remainder)\n",
    "    for remainder in to_remove:\n",
    "        del remainder_counts[remainder]\n",
    "      \n",
    "    return subset_size + sum(remainder_counts.values())"
   ]
  }
 ],
 "metadata": {
  "kernelspec": {
   "display_name": "starwars",
   "language": "python",
   "name": "python3"
  },
  "language_info": {
   "codemirror_mode": {
    "name": "ipython",
    "version": 3
   },
   "file_extension": ".py",
   "mimetype": "text/x-python",
   "name": "python",
   "nbconvert_exporter": "python",
   "pygments_lexer": "ipython3",
   "version": "3.11.3"
  }
 },
 "nbformat": 4,
 "nbformat_minor": 2
}
