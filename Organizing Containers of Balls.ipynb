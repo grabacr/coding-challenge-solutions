{
 "cells": [
  {
   "cell_type": "markdown",
   "metadata": {},
   "source": [
    "### Below is an optimal solution to the HackerRank problem, Organizing Containers of Balls but with a harder problem condition\n"
   ]
  },
  {
   "cell_type": "markdown",
   "metadata": {},
   "source": [
    "https://www.hackerrank.com/challenges/organizing-containers-of-balls/problem?isFullScreen=true"
   ]
  },
  {
   "cell_type": "markdown",
   "metadata": {},
   "source": [
    "The problem, Organizing Containers of Balls as proposed in HackerRank is a relatively simple one: match number of balls to each bucket size and done.\n",
    "\n",
    "However, a generalizable solution where the balls and containers are not guaranteed to match, is a modified version of the coin change problem.\n",
    "\n",
    "Here I demonstrate an efficient method to implement the containers of balls with the use of dynamic programming and effective use of hashes.\n",
    "\n",
    "The resulting compute time is low enough to pass the majority of test cases for a O(n^2) modified problem description even though the test cases are designed for O(n)."
   ]
  },
  {
   "cell_type": "code",
   "execution_count": null,
   "metadata": {},
   "outputs": [],
   "source": [
    "def hash_state(boxes_,balls_):\n",
    "    boxes = frozenset(Counter(boxes_).items())  # Convert Counter to a hashable form\n",
    "    balls = frozenset(Counter(balls_).items())\n",
    "    return hash((boxes, balls))\n",
    "\n",
    "from itertools import combinations,product\n",
    "def coin_change(boxes,balls,memo):\n",
    "    state = hash_state(boxes,balls)\n",
    "    \n",
    "    if state in memo:\n",
    "        return memo[state]\n",
    "                \n",
    "    if not boxes and not balls:\n",
    "        return True\n",
    "    \n",
    "    boxes = boxes.copy()\n",
    "    box,box_count = next(iter(boxes.items()))\n",
    "    if box_count == 1:\n",
    "        del boxes[box]\n",
    "    else:\n",
    "        boxes[box] -= 1\n",
    "\n",
    "    for index,ball_count in balls.items():\n",
    "        if ball_count - box < 0:\n",
    "            continue\n",
    "    \n",
    "        newballs = balls.copy()\n",
    "        if ball_count - box == 0:\n",
    "            del newballs[index]\n",
    "        else:\n",
    "            newballs[index] = ball_count - box\n",
    "                \n",
    "        if coin_change(boxes,newballs,memo):\n",
    "            memo[state]=True\n",
    "            return True\n",
    "    \n",
    "    memo[state] = False\n",
    "    return False\n",
    "    \n",
    "from collections import Counter\n",
    "def organizingContainers(container):    \n",
    "    n = len(container[0])\n",
    "    boxes = [sum(i) for i in container]  # list of container sizes\n",
    "    \n",
    "    balls = {}\n",
    "    for box in container:\n",
    "        for i,icount in enumerate(box):\n",
    "            balls[i] = balls.get(i,0) + icount\n",
    "\n",
    "    boxes = Counter(boxes)\n",
    "    balls = Counter(balls)\n",
    "    memo = {}\n",
    "\n",
    "    return 'Possible' if coin_change(boxes,balls,memo) else 'Impossible'"
   ]
  },
  {
   "cell_type": "code",
   "execution_count": null,
   "metadata": {},
   "outputs": [],
   "source": []
  },
  {
   "cell_type": "code",
   "execution_count": null,
   "metadata": {},
   "outputs": [],
   "source": []
  },
  {
   "cell_type": "code",
   "execution_count": null,
   "metadata": {},
   "outputs": [],
   "source": []
  },
  {
   "cell_type": "code",
   "execution_count": null,
   "metadata": {},
   "outputs": [],
   "source": []
  }
 ],
 "metadata": {
  "kernelspec": {
   "display_name": "starwars",
   "language": "python",
   "name": "python3"
  },
  "language_info": {
   "codemirror_mode": {
    "name": "ipython",
    "version": 3
   },
   "file_extension": ".py",
   "mimetype": "text/x-python",
   "name": "python",
   "nbconvert_exporter": "python",
   "pygments_lexer": "ipython3",
   "version": "3.11.3"
  }
 },
 "nbformat": 4,
 "nbformat_minor": 2
}
