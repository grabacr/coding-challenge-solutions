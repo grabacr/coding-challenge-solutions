{
 "cells": [
  {
   "cell_type": "markdown",
   "metadata": {},
   "source": [
    "# Using python and dynamic programming to generalize the Organizing Containers of Balls HackerRank problem\n"
   ]
  },
  {
   "cell_type": "markdown",
   "metadata": {},
   "source": [
    "https://www.hackerrank.com/challenges/organizing-containers-of-balls/problem?isFullScreen=true"
   ]
  },
  {
   "cell_type": "markdown",
   "metadata": {},
   "source": [
    "## Problem Overview\n",
    "\n",
    "In HackerRank's \"Organizing Containers of Balls\" challenge, the goal is to match the number of balls to container capacities. The challenge complicates when a direct match isn't feasible, creating a scenario akin to the coin change problem. This solution addresses a modified, more complex version of the original problem.\n",
    "\n",
    "## Solution Strategy\n",
    "\n",
    "The solution employs:\n",
    "- **Dynamic Programming** to break down the problem into smaller, manageable sub-problems.\n",
    "- **Hashing Techniques** to efficiently map the relationships between balls and containers.\n",
    "\n",
    "## Computational Efficiency\n",
    "\n",
    "Optimized for a O(nm) complexity problem description, the following algorithm effectively handles HackerRank's test cases, originally designed for O(n).\n",
    "\n",
    "## Full Test Case Coverage\n",
    "\n",
    "Adjusting a '<' to a '!=' comparison simplifies the problem, ensuring all test cases are passed.\n",
    "\n",
    "## Conclusion\n",
    "\n",
    "This concise solution leverages dynamic programming and hashing, demonstrating efficient problem-solving and optimization tools for complex challenges wherever coin change can be applied.\n"
   ]
  },
  {
   "cell_type": "code",
   "execution_count": 31,
   "metadata": {},
   "outputs": [],
   "source": [
    "def hash_state(boxes, balls):\n",
    "    return hash((frozenset(boxes.items()), frozenset(balls.items())))\n",
    "\n",
    "from itertools import combinations,product\n",
    "def coin_change(boxes,balls,memo):\n",
    "    state = hash_state(boxes,balls)\n",
    "    \n",
    "    if state in memo:\n",
    "        return memo[state]\n",
    "                \n",
    "    if not boxes and not balls:\n",
    "        return True\n",
    "    \n",
    "    boxes = boxes.copy()\n",
    "    box_size,box_count = next(iter(boxes.items()))\n",
    "    if box_count == 1:\n",
    "        del boxes[box_size]\n",
    "    else:\n",
    "        boxes[box_size] -= 1\n",
    "\n",
    "    for ball_type,ball_count in balls.items():\n",
    "        if ball_count - box_size < 0:\n",
    "            continue\n",
    "    \n",
    "        new_balls = balls.copy()\n",
    "        if ball_count - box_size == 0:\n",
    "            del new_balls[ball_type]\n",
    "        else:\n",
    "            new_balls[ball_type] = ball_count - box_size\n",
    "                \n",
    "        if coin_change(boxes,new_balls,memo):\n",
    "            memo[state]=True\n",
    "            return True\n",
    "    \n",
    "    memo[state] = False\n",
    "    return False\n",
    "    \n",
    "from collections import Counter\n",
    "def organizingContainers(container):    \n",
    "    n = len(container[0])\n",
    "    boxes = [sum(i) for i in container]  # list of container sizes\n",
    "    \n",
    "    balls = {}\n",
    "    for box in container:\n",
    "        for i,icount in enumerate(box):\n",
    "            balls[i] = balls.get(i,0) + icount\n",
    "\n",
    "    boxes = Counter(boxes)\n",
    "    balls = Counter(balls)\n",
    "    memo = {}\n",
    "\n",
    "    return 'Possible' if coin_change(boxes,balls,memo) else 'Impossible'"
   ]
  },
  {
   "cell_type": "markdown",
   "metadata": {},
   "source": [
    "### Sample test cases"
   ]
  },
  {
   "cell_type": "code",
   "execution_count": 5,
   "metadata": {},
   "outputs": [],
   "source": [
    "import random\n",
    "\n",
    "def generate_random_ints(num_integers, lower_bound, upper_bound,repeat=1):\n",
    "    out = []\n",
    "    for _ in range(repeat):\n",
    "        random_ints = [int(random.randint(lower_bound, upper_bound)) for _ in range(num_integers)]\n",
    "        out.append(random_ints)\n",
    "    return out"
   ]
  },
  {
   "cell_type": "code",
   "execution_count": 30,
   "metadata": {},
   "outputs": [
    {
     "name": "stdout",
     "output_type": "stream",
     "text": [
      "Total success rate with the above parameters is: 2669/10000 = 0.2669\n"
     ]
    }
   ],
   "source": [
    "# Note: There msut be more containers than balls to be satisfiable\n",
    "\n",
    "# Example usage:\n",
    "num_balls = 3  # Number of random ball types you want to generate\n",
    "num_containers = 6 # Number of random containers you want to generate\n",
    "lower_bound = 2  # Lower inclusive bound for the number of balls of each color in each container\n",
    "upper_bound = 8  # Upper inclusive bound for the number of balls of each color in each container\n",
    "\n",
    "i = 0\n",
    "successes = 0\n",
    "while i < 10000:\n",
    "    if organizingContainers(generate_random_ints(num_balls, lower_bound, upper_bound,num_containers)) == 'Possible':\n",
    "        successes += 1\n",
    "    i += 1\n",
    "\n",
    "print(f'Total success rate with the above parameters is: {successes}{\"/\"}{i} = {successes/i}')\n",
    "    "
   ]
  },
  {
   "cell_type": "code",
   "execution_count": null,
   "metadata": {},
   "outputs": [],
   "source": []
  },
  {
   "cell_type": "code",
   "execution_count": null,
   "metadata": {},
   "outputs": [],
   "source": []
  },
  {
   "cell_type": "code",
   "execution_count": null,
   "metadata": {},
   "outputs": [],
   "source": []
  }
 ],
 "metadata": {
  "kernelspec": {
   "display_name": "starwars",
   "language": "python",
   "name": "python3"
  },
  "language_info": {
   "codemirror_mode": {
    "name": "ipython",
    "version": 3
   },
   "file_extension": ".py",
   "mimetype": "text/x-python",
   "name": "python",
   "nbconvert_exporter": "python",
   "pygments_lexer": "ipython3",
   "version": "3.11.3"
  }
 },
 "nbformat": 4,
 "nbformat_minor": 2
}
